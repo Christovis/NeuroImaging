{
 "cells": [
  {
   "cell_type": "markdown",
   "metadata": {
    "colab_type": "text",
    "id": "BILye6YttAiz"
   },
   "source": [
    "# CNN for brain skull stripping"
   ]
  },
  {
   "cell_type": "markdown",
   "metadata": {
    "colab_type": "text",
    "id": "i9JrreP9tAi1"
   },
   "source": [
    "## Description"
   ]
  },
  {
   "cell_type": "markdown",
   "metadata": {
    "colab_type": "text",
    "id": "Uf8lxg5dtAi2"
   },
   "source": [
    "When analyzing brain images it is usually needed to remove the skull: such operation is commonly known as **skull stripping**. \n",
    "\n",
    "In this task we want you to implement a Convolutional Neural Network (CNN) to solve this **segmentation** problem:  \n",
    "Given an [axial slice](https://en.wikipedia.org/wiki/Anatomical_plane) of a brain, the CNN should produce an image in which each pixel value represents the (pseudo)probability that the pixel belongs to brain tissue. That way, given the probability map and a threshold we can create a brain mask that removes the skull when applied to the original image."
   ]
  },
  {
   "cell_type": "markdown",
   "metadata": {
    "colab_type": "text",
    "id": "FmBWgdsftAi3"
   },
   "source": [
    "### Subtask 1"
   ]
  },
  {
   "cell_type": "markdown",
   "metadata": {
    "colab_type": "text",
    "id": "HhaY2tKatAi3"
   },
   "source": [
    "Implement the architecture of the CNN. It should have **at least 2 convolutional layers**, and you can add the type and amount of layers you deem convenient.\n",
    "\n",
    "You have the option to either design your own architecture or use one from the literature. In this last case, please, cite the corresponding publication."
   ]
  },
  {
   "cell_type": "markdown",
   "metadata": {
    "colab_type": "text",
    "id": "foJUKvootAi4"
   },
   "source": [
    "### Subtask 2"
   ]
  },
  {
   "cell_type": "markdown",
   "metadata": {
    "colab_type": "text",
    "id": "bFiTv_cgtAi5"
   },
   "source": [
    "Cross-entropy loss and precision / recall metrics are provided so that you can train and assess your network right away. However, we want to evaluate the performance of the network using one of the most typical metrics in biomedical image segmentation: the **Sorensen-DICE coefficient**. \n",
    "\n",
    "Provide an implementation of the metric so that it can be assessed during training."
   ]
  },
  {
   "cell_type": "markdown",
   "metadata": {
    "colab_type": "text",
    "id": "07dyggsctAi7"
   },
   "source": [
    "### Subtask 3"
   ]
  },
  {
   "cell_type": "markdown",
   "metadata": {
    "colab_type": "text",
    "id": "9nMJrehqtAi8"
   },
   "source": [
    "Train your network from scratch or fine tune pre-trained weights from other reference datasets (such as ImageNet) using the provided dataset. \n",
    "\n",
    "Provide the metrics reported in subtask 2 for the train and validation sets. You can use the batch data loader implemented in the notebook to load your data, but you are free to use your own implementation if you need to.\n",
    "\n",
    "_NOTE: We do not expect you to achieve state-of-the-art performance, so use the minimum number of epochs / iterations so that you can evaluate if the network is learning or not._ "
   ]
  },
  {
   "cell_type": "markdown",
   "metadata": {
    "colab_type": "text",
    "id": "pPJGryTftAi8"
   },
   "source": [
    "### Subtask 4"
   ]
  },
  {
   "cell_type": "markdown",
   "metadata": {
    "colab_type": "text",
    "id": "Ba6Y7GCZtAi-"
   },
   "source": [
    "###### **Justify the decisions** made regarding the **architecture** and the **training** process.\n",
    "Considering those decisions, briefly **comment the results** obtained.\n",
    "\n",
    "_NOTE: You can answer this question at the end of the notebook using the integrated Markdown interpreter._"
   ]
  },
  {
   "cell_type": "markdown",
   "metadata": {
    "colab_type": "text",
    "id": "_lBXt4ratAi_"
   },
   "source": [
    "## Requirements"
   ]
  },
  {
   "cell_type": "markdown",
   "metadata": {
    "colab_type": "text",
    "id": "nC-WBrPBtAjA"
   },
   "source": [
    "- The choice of deep learning framework (if using any) is up to you. However, all the provided code is written in **TensorFlow**, so if you use another framework you'll have to port the implementation yourself.\n",
    "\n",
    "- You can include external Python files to organize your functions and / or classes. Just be sure to attach them in the response so that we can run the code.\n",
    "\n",
    "- The provided code was tested in **Python 3.6**, so you may have to change some things in order to make it work in other versions of Python."
   ]
  },
  {
   "cell_type": "markdown",
   "metadata": {
    "colab_type": "text",
    "id": "utJKMDi9tAjB"
   },
   "source": [
    "## Provided code"
   ]
  },
  {
   "cell_type": "markdown",
   "metadata": {
    "colab_type": "text",
    "id": "34CjIj7JtAjC"
   },
   "source": [
    "### Python imports"
   ]
  },
  {
   "cell_type": "code",
   "execution_count": 2,
   "metadata": {
    "colab": {
     "autoexec": {
      "startup": false,
      "wait_interval": 0
     }
    },
    "colab_type": "code",
    "id": "QA8ysDVStAjC"
   },
   "outputs": [],
   "source": [
    "import glob\n",
    "import os\n",
    "import time\n",
    "\n",
    "import tensorflow as tf\n",
    "import numpy as np\n",
    "import skimage.io as skio\n",
    "import skimage.transform as sktransform\n",
    "import matplotlib.pyplot as plt\n",
    "%matplotlib inline"
   ]
  },
  {
   "cell_type": "markdown",
   "metadata": {
    "colab_type": "text",
    "id": "c1ewRE-_tAjF"
   },
   "source": [
    "### Loss function: Weighted cross-entropy"
   ]
  },
  {
   "cell_type": "code",
   "execution_count": 3,
   "metadata": {
    "colab": {
     "autoexec": {
      "startup": false,
      "wait_interval": 0
     }
    },
    "colab_type": "code",
    "id": "SUPaoVSPtAjG"
   },
   "outputs": [],
   "source": [
    "def weighted_nd_cross_entropy(logits, labels, weight_per_class=None):\n",
    "    \"\"\"\n",
    "    Weighted cross-entropy loss for n-dimensional one-hot encoded logits and label tensors    \n",
    "    \"\"\"\n",
    "    with tf.name_scope('weighted_cross_entropy'):\n",
    "        # Transform logits and labels into 2-dimensional tensors to compute the cross entropy loss\n",
    "        logits_shape = tf.shape(logits)\n",
    "        labels_shape = tf.shape(logits)\n",
    "        logits = tf.reshape(tensor=logits, shape=[-1, logits_shape[-1]])\n",
    "        labels = tf.reshape(tensor=labels, shape=[-1, labels_shape[-1]])\n",
    "\n",
    "        # Compute raw cross-entropy\n",
    "        xent = tf.nn.softmax_cross_entropy_with_logits(\n",
    "            logits=logits, \n",
    "            labels=labels, \n",
    "            name='raw_xe'\n",
    "        )\n",
    "\n",
    "        # Optional, Weight cross-entropy by class\n",
    "        loss_name = \"cross_entropy\"\n",
    "        if weight_per_class is not None:\n",
    "            # Assertions\n",
    "            weight_per_class = np.atleast_2d(weight_per_class)\n",
    "\n",
    "            # Weights per label for class-balancing (shape: [1, batch_size])\n",
    "            weight_per_label = tf.transpose( \n",
    "                tf.matmul(labels, tf.transpose(tf.constant(weight_per_class, dtype=tf.float32))) \n",
    "            )\n",
    "            # Weighted cross-entropy (shape; [1, batch_size])\n",
    "            xent = weight_per_label * xent    \n",
    "            loss_name = \"weighted_cross_entropy\"\n",
    "\n",
    "        return tf.reduce_mean(xent, name=loss_name)"
   ]
  },
  {
   "cell_type": "markdown",
   "metadata": {
    "colab_type": "text",
    "id": "yD_Y9vZEtAjJ"
   },
   "source": [
    "### Metrics: Precision, recall and accuracy"
   ]
  },
  {
   "cell_type": "code",
   "execution_count": 4,
   "metadata": {
    "colab": {
     "autoexec": {
      "startup": false,
      "wait_interval": 0
     }
    },
    "colab_type": "code",
    "id": "wWZn9Aq_tAjJ"
   },
   "outputs": [],
   "source": [
    "def accuracy(prediction, ground_truth):\n",
    "    \"\"\"\n",
    "    Computes the accuracy of the prediction wrt to the ground truth. \n",
    "    The dimensions of prediction and ground_truth must match.\n",
    "    Prediction and ground-truth are expected to be one-hot encoded tensors. \n",
    "    \"\"\"\n",
    "    with tf.name_scope('accuracy'):\n",
    "        correct_predictions = tf.equal(\n",
    "            tf.argmax(input=prediction, axis=-1), \n",
    "            tf.argmax(input=ground_truth, axis=-1)\n",
    "        )\n",
    "        return tf.reduce_mean(tf.cast(correct_predictions, tf.float32))"
   ]
  },
  {
   "cell_type": "code",
   "execution_count": 5,
   "metadata": {
    "colab": {
     "autoexec": {
      "startup": false,
      "wait_interval": 0
     }
    },
    "colab_type": "code",
    "id": "Ukt2Ev4vtAjM"
   },
   "outputs": [],
   "source": [
    "def precision(prediction, ground_truth, category):\n",
    "    \"\"\"\n",
    "    Compute precision for the specified category.\n",
    "    The dimensions of prediction and ground_truth must match.\n",
    "    Prediction and ground-truth are expected to be one-hot encoded tensors.\n",
    "    \"\"\"\n",
    "    with tf.name_scope('precision'):\n",
    "        # Compute the hard-decision from the softmax map\n",
    "        hard_decision_pred = tf.cast(\n",
    "            prediction / tf.reduce_max(prediction, axis=-1, keep_dims=True),\n",
    "            dtype=tf.int32\n",
    "        )\n",
    "        hard_decision_gt = tf.cast(\n",
    "            ground_truth / tf.reduce_max(ground_truth, axis=-1, keep_dims=True), \n",
    "            dtype=tf.int32\n",
    "        )\n",
    "\n",
    "        # For now assume that we only compute these metrics for images (shape: [batch_size, height, width, classes])\n",
    "        prediction = hard_decision_pred[:, :, :, category]\n",
    "        ground_truth = hard_decision_gt[:, :, :, category]\n",
    "\n",
    "        intersection = prediction * ground_truth\n",
    "\n",
    "        num_true_positives = tf.cast(tf.reduce_sum(intersection), dtype=tf.float32)\n",
    "        num_predictions = tf.cast(tf.reduce_sum(prediction), dtype=tf.float32)\n",
    "\n",
    "        precision = num_true_positives / (num_predictions + 1e-9)\n",
    "\n",
    "        return precision, recall, dice"
   ]
  },
  {
   "cell_type": "code",
   "execution_count": 6,
   "metadata": {
    "colab": {
     "autoexec": {
      "startup": false,
      "wait_interval": 0
     }
    },
    "colab_type": "code",
    "id": "LajIHQfGtAjO"
   },
   "outputs": [],
   "source": [
    "def recall(prediction, ground_truth, category):\n",
    "    \"\"\"\n",
    "    Compute recall for the specified category.\n",
    "    The dimensions of prediction and ground_truth must match.\n",
    "    Prediction and ground-truth are expected to be one-hot encoded tensors.\n",
    "    \"\"\"\n",
    "    with tf.name_scope('recall'):\n",
    "        # Compute the hard-decision from the soft-decision\n",
    "        hard_decision_pred = tf.cast(\n",
    "            prediction / tf.reduce_max(prediction, axis=-1, keep_dims=True),\n",
    "            dtype=tf.int32\n",
    "        )\n",
    "        hard_decision_gt = tf.cast(\n",
    "            ground_truth / tf.reduce_max(ground_truth, axis=-1, keep_dims=True), \n",
    "            dtype=tf.int32\n",
    "        )\n",
    "\n",
    "        # For now assume that we only compute these metrics for images (shape: [batch_size, height, width, classes])\n",
    "        prediction = hard_decision_pred[:, :, :, category]\n",
    "        ground_truth = hard_decision_gt[:, :, :, category]\n",
    "\n",
    "        intersection = prediction * ground_truth\n",
    "\n",
    "        num_true_positives = tf.cast(tf.reduce_sum(intersection), dtype=tf.float32)\n",
    "        num_true = tf.cast(tf.reduce_sum(ground_truth), dtype=tf.float32)\n",
    "\n",
    "        precision = num_true_positives / (num_predictions + 1e-9)\n",
    "        recall = num_true_positives / (num_true + 1e-9)\n",
    "\n",
    "        return precision, recall, dice"
   ]
  },
  {
   "cell_type": "markdown",
   "metadata": {
    "colab_type": "text",
    "id": "I0xzxiHntAjQ"
   },
   "source": [
    "### Data Ingestion: `DataLoader` class to generate batches of training / validation data"
   ]
  },
  {
   "cell_type": "code",
   "execution_count": 7,
   "metadata": {
    "colab": {
     "autoexec": {
      "startup": false,
      "wait_interval": 0
     }
    },
    "colab_type": "code",
    "id": "GXIpFuoJtAjQ"
   },
   "outputs": [],
   "source": [
    "class DataLoader(object):\n",
    "    \n",
    "    GROUND_TRUTH_LABELS = 'gt'\n",
    "    \n",
    "    def __init__(self, data_path, batch_size=16, im_shape=None, return_names=False, seed=None):\n",
    "        np.random.seed(seed)\n",
    "        \n",
    "        # Load all T1 and GT labels\n",
    "        self.data_path = data_path\n",
    "        labels = np.array(glob.glob(os.path.join(data_path, self.GROUND_TRUTH_LABELS, '*')))\n",
    "        file_names = [os.path.basename(label) for label in labels]\n",
    "        t1 = np.array([os.path.join(data_path, 't1', fname) for fname in file_names])\n",
    "        \n",
    "        # Shuffle all the data \n",
    "        self.n_samples = len(labels)\n",
    "        perm_ind = np.random.permutation(self.n_samples)\n",
    "        self.labels = labels[perm_ind]\n",
    "        self.t1 = t1[perm_ind]\n",
    "        \n",
    "        # Initialize batch index\n",
    "        self.batch_size = batch_size\n",
    "        self.batch_index = 0\n",
    "        \n",
    "        # Image shape\n",
    "        if im_shape is None:\n",
    "            # Load a sample image and get the shape\n",
    "            sample_image_path = t1[0]\n",
    "            self.im_shape = skio.imread(sample_image_path, as_grey=True).shape\n",
    "        else :\n",
    "            self.im_shape = im_shape\n",
    "        \n",
    "        # Other attributes\n",
    "        self.num_modalities = 1\n",
    "        self.num_classes = 2\n",
    "        self.return_names = return_names\n",
    "        \n",
    "    def get_all(self):\n",
    "        \"\"\"\n",
    "        Returns all the images.\n",
    "        \"\"\"\n",
    "        # Get batches and reset data loader\n",
    "        batch_x, batch_y, fnames = self._next_batch(self.n_samples)\n",
    "        self._reset()\n",
    "        # Return batches and optionally names\n",
    "        if self.return_names:\n",
    "            return batch_x, batch_y, fnames\n",
    "        else:\n",
    "            return batch_x, batch_y\n",
    "                \n",
    "    def next(self):\n",
    "        \"\"\"\n",
    "        Returns the next batch.\n",
    "        \"\"\"\n",
    "        if self.batch_index < self.n_samples:\n",
    "            # Compute current batch size\n",
    "            if self.batch_index + self.batch_size <= self.n_samples:\n",
    "                c_batch_size = self.batch_size\n",
    "            else:\n",
    "                c_batch_size = self.n_samples - self.batch_index\n",
    "            \n",
    "            # Load a batch of images and preprocess / augment them\n",
    "            batch_x, batch_y, filenames = self._next_batch(c_batch_size)\n",
    "            \n",
    "            # Move batch index\n",
    "            self.batch_index += c_batch_size\n",
    "        \n",
    "            if self.return_names:\n",
    "                return batch_x, batch_y, filenames\n",
    "            else:\n",
    "                return batch_x, batch_y\n",
    "        else:\n",
    "            # Reset the generator\n",
    "            self._reset()\n",
    "            raise StopIteration\n",
    "        \n",
    "    def __iter__(self):\n",
    "        return self\n",
    "        \n",
    "    def __next__(self):\n",
    "        return self.next()       \n",
    "    \n",
    "    def _reset(self):\n",
    "        self.batch_index = 0\n",
    "        \n",
    "        # Reshuffle data\n",
    "        permute_ind = np.random.permutation(self.n_samples)\n",
    "        self.labels = self.labels[permute_ind]\n",
    "        self.t1 = self.t1[permute_ind]\n",
    "        \n",
    "    def _next_batch(self, current_batch_size):\n",
    "        # Batches shape\n",
    "        x_shape = (current_batch_size,) + self.im_shape + (self.num_modalities,)\n",
    "        y_shape = (current_batch_size,) + self.im_shape + (self.num_classes,)\n",
    "        \n",
    "        # Pre-allocate numpy array\n",
    "        batch_x = np.empty(x_shape, dtype=np.float32)\n",
    "        batch_y = np.empty(y_shape, dtype=np.float32)\n",
    "        \n",
    "        # Load images\n",
    "        t1 = self.t1[self.batch_index:self.batch_index + current_batch_size]\n",
    "        gt = self.labels[self.batch_index:self.batch_index + current_batch_size]\n",
    "        \n",
    "        # Filenames\n",
    "        fnames = [os.path.basename(im).split('.')[-2] for im in t1]\n",
    "        \n",
    "        for i, (t1_img, gt_img) in enumerate(zip(t1, gt)):\n",
    "            t1_ndarray = skio.imread(fname=t1_img, as_grey=True)\n",
    "            gt_ndarray = skio.imread(fname=gt_img, as_grey=True)\n",
    "            \n",
    "            # Resize to im_shape\n",
    "            t1_ndarray = sktransform.resize(t1_ndarray, output_shape=self.im_shape, mode='reflect')\n",
    "            gt_ndarray = sktransform.resize(gt_ndarray, output_shape=self.im_shape, mode='reflect')\n",
    "                        \n",
    "            # Create x batch\n",
    "            batch_x[i, :, :, 0] = t1_ndarray\n",
    "            \n",
    "            # Create y batch\n",
    "            batch_y[i, :, :, 0] = gt_ndarray == 0\n",
    "            batch_y[i, :, :, 1] = gt_ndarray > 0            \n",
    "            \n",
    "        return batch_x, batch_y, fnames\n",
    "\n",
    "        \n",
    "        # Get batches and reset data loader\n",
    "        batch_x, batch_y, fnames = self._next_batch(self.n_samples)\n",
    "        self._reset()\n",
    "        # Return batches and optionally names\n",
    "        if self.return_names:\n",
    "            return batch_x, batch_y, fnames\n",
    "        else:\n",
    "            return batch_x, batch_y"
   ]
  },
  {
   "cell_type": "code",
   "execution_count": 8,
   "metadata": {
    "colab": {
     "autoexec": {
      "startup": false,
      "wait_interval": 0
     }
    },
    "colab_type": "code",
    "id": "pZMo1Q5YtAjT"
   },
   "outputs": [],
   "source": [
    "TRAIN_DATA = './train/'\n",
    "VALIDATION_DATA = './validation/'"
   ]
  },
  {
   "cell_type": "code",
   "execution_count": 9,
   "metadata": {
    "colab": {
     "autoexec": {
      "startup": false,
      "wait_interval": 0
     }
    },
    "colab_type": "code",
    "id": "Zk3Ak45PtAjV"
   },
   "outputs": [],
   "source": [
    "# Initialize data and validation generator\n",
    "train_generator = DataLoader(data_path=TRAIN_DATA, batch_size=8, return_names=False)\n",
    "val_generator = DataLoader(data_path=VALIDATION_DATA, batch_size=16, return_names=False)"
   ]
  },
  {
   "cell_type": "code",
   "execution_count": 10,
   "metadata": {
    "colab": {
     "autoexec": {
      "startup": false,
      "wait_interval": 0
     }
    },
    "colab_type": "code",
    "id": "PRhgYTJLtAjW",
    "outputId": "011c8a2a-d48c-4213-8e47-a67f56aa4a71"
   },
   "outputs": [
    {
     "name": "stdout",
     "output_type": "stream",
     "text": [
      "Image shape: (176, 256)\n",
      "Number of train samples: 1040\n",
      "Number of validation samples: 260\n"
     ]
    }
   ],
   "source": [
    "print('Image shape: {}'.format(train_generator.im_shape))\n",
    "print('Number of train samples: {}'.format(train_generator.n_samples))\n",
    "print('Number of validation samples: {}'.format(val_generator.n_samples))"
   ]
  },
  {
   "cell_type": "markdown",
   "metadata": {
    "colab_type": "text",
    "id": "OANRuddAtAjd"
   },
   "source": [
    "Load Data"
   ]
  },
  {
   "cell_type": "code",
   "execution_count": 11,
   "metadata": {
    "colab": {
     "autoexec": {
      "startup": false,
      "wait_interval": 0
     }
    },
    "colab_type": "code",
    "id": "v4EOCgSgtAjf"
   },
   "outputs": [],
   "source": [
    "training = DataLoader(data_path=TRAIN_DATA, batch_size=1)\n",
    "train_imgs, train_label = training.get_all()\n",
    "train_label = train_label.reshape(1040, 176*256, 2)\n",
    "\n",
    "validation = DataLoader(data_path=VALIDATION_DATA, batch_size=1)\n",
    "valid_imgs, valid_label = validation.get_all()\n",
    "valid_label = valid_label.reshape(260, 176*256, 2)"
   ]
  },
  {
   "cell_type": "code",
   "execution_count": 12,
   "metadata": {
    "colab": {
     "autoexec": {
      "startup": false,
      "wait_interval": 0
     }
    },
    "colab_type": "code",
    "id": "EWAluic6tAjh",
    "outputId": "e46f8173-71c7-4f34-9281-4bcf457d5223"
   },
   "outputs": [
    {
     "data": {
      "image/png": "[encoded data removed]",
      "text/plain": [
       "<Figure size 432x288 with 1 Axes>"
      ]
     },
     "metadata": {},
     "output_type": "display_data"
    }
   ],
   "source": [
    "_ = plt.imshow(train_imgs[1, :, :, 0])"
   ]
  },
  {
   "cell_type": "code",
   "execution_count": 23,
   "metadata": {},
   "outputs": [],
   "source": [
    "#_ = plt.imshow(train_label[1, :, :, 0])"
   ]
  },
  {
   "cell_type": "code",
   "execution_count": null,
   "metadata": {},
   "outputs": [],
   "source": [
    "#_ = plt.imshow(train_label[1, :, :, 1])"
   ]
  },
  {
   "cell_type": "markdown",
   "metadata": {
    "colab_type": "text",
    "id": "XkTXy4d4tAjy"
   },
   "source": [
    "## Solution"
   ]
  },
  {
   "cell_type": "code",
   "execution_count": 13,
   "metadata": {},
   "outputs": [
    {
     "name": "stderr",
     "output_type": "stream",
     "text": [
      "Using TensorFlow backend.\n"
     ]
    }
   ],
   "source": [
    "import json\n",
    "from keras import backend as K\n",
    "from keras.models import Model, load_model\n",
    "from keras.callbacks import ModelCheckpoint\n",
    "from keras.layers import Convolution2D, MaxPooling2D, ZeroPadding2D, UpSampling2D"
   ]
  },
  {
   "cell_type": "markdown",
   "metadata": {},
   "source": [
    "Subtask 1"
   ]
  },
  {
   "cell_type": "code",
   "execution_count": 14,
   "metadata": {},
   "outputs": [],
   "source": [
    "from SimpleSegNet import model"
   ]
  },
  {
   "cell_type": "markdown",
   "metadata": {},
   "source": [
    "Subtask 2"
   ]
  },
  {
   "cell_type": "code",
   "execution_count": 15,
   "metadata": {},
   "outputs": [],
   "source": [
    "from metrics import dice_loss, dice_coef"
   ]
  },
  {
   "cell_type": "markdown",
   "metadata": {},
   "source": [
    "Subtask 3"
   ]
  },
  {
   "cell_type": "code",
   "execution_count": 16,
   "metadata": {},
   "outputs": [],
   "source": [
    "# Parameters\n",
    "b_size = 8\n",
    "nb_epoch = 10\n",
    "smooth_default = 1."
   ]
  },
  {
   "cell_type": "code",
   "execution_count": 21,
   "metadata": {
    "scrolled": true
   },
   "outputs": [
    {
     "name": "stdout",
     "output_type": "stream",
     "text": [
      "Train on 174 samples, validate on 130 samples\n",
      "Epoch 1/1\n",
      "174/174 [==============================] - 53674s 308s/step - loss: 0.1994 - dice_coef: 0.7891 - val_loss: 0.1131 - val_dice_coef: 0.8223\n"
     ]
    },
    {
     "name": "stderr",
     "output_type": "stream",
     "text": [
      "/home/chrbecker/anaconda3/lib/python3.6/site-packages/keras/callbacks.py:432: RuntimeWarning: Can save best model only with val_acc available, skipping.\n",
      "  'skipping.' % (self.monitor), RuntimeWarning)\n"
     ]
    }
   ],
   "source": [
    "segnet_basic = model((train_imgs.shape[1], train_imgs.shape[2], 1),\n",
    "                      classes=2, kernel_size = 3)\n",
    "\n",
    "segnet_basic.compile(loss=\"categorical_crossentropy\",\n",
    "                     optimizer='adadelta', metrics=[dice_coef])\n",
    "\n",
    "filepath=\"weights.best.hdf5\"\n",
    "checkpoint = ModelCheckpoint(filepath, monitor='val_acc',\n",
    "                             verbose=1, save_best_only=True,\n",
    "                             mode='max')\n",
    "callbacks_list = [checkpoint]\n",
    "\n",
    "history = segnet_basic.fit(train_imgs[::6, :, :, :], train_label[::6, :, :],\n",
    "                           callbacks=callbacks_list,\n",
    "                           batch_size=b_size, epochs=nb_epoch,\n",
    "                           verbose=1,\n",
    "                           validation_data=(valid_imgs[::2, :, :], valid_label[::2, :, :]),\n",
    "                           shuffle=True) # validation_split=0.33\n",
    " \n",
    "segnet_basic.save('SS_SegNet_Weights.hdf5')\n",
    "segnet_basic.predict(train_imgs[0, :, :, :])"
   ]
  },
  {
   "cell_type": "markdown",
   "metadata": {},
   "source": [
    "Subtask 4"
   ]
  },
  {
   "cell_type": "markdown",
   "metadata": {},
   "source": [
    "I could not answer the questions in an adequate manner since I was lacking the computational resources. However, I decided to go for a simplified SegNet architecture with three pooling layers and three upsamplings. Another commonly used architecture in medical applications is the U-Net, but it is able to segment more detailed features and not necessary in the problem at hand.\n",
    "<br>\n",
    "A trade-off has to be made between the computational costs and risk of overfitting. However the best number of poolying layers is hard to find if one is unable to perform an exploration of the hyper-space.\n",
    "<br>\n",
    "As a final layer I implemented a Sigmoid function, since we only want to perform a semantic segmentation that can perform a binary classification between what is brain and what isn't."
   ]
  },
  {
   "cell_type": "code",
   "execution_count": null,
   "metadata": {},
   "outputs": [],
   "source": []
  }
 ],
 "metadata": {
  "colab": {
   "default_view": {},
   "name": "Skull_stripping_task.ipynb",
   "provenance": [],
   "version": "0.3.2",
   "views": {}
  },
  "kernelspec": {
   "display_name": "Python 3",
   "language": "python",
   "name": "python3"
  },
  "language_info": {
   "codemirror_mode": {
    "name": "ipython",
    "version": 3
   },
   "file_extension": ".py",
   "mimetype": "text/x-python",
   "name": "python",
   "nbconvert_exporter": "python",
   "pygments_lexer": "ipython3",
   "version": "3.6.5"
  }
 },
 "nbformat": 4,
 "nbformat_minor": 1
}
