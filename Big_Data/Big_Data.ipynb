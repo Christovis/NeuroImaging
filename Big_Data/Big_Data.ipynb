{
 "cells": [
  {
   "cell_type": "code",
   "execution_count": 1,
   "metadata": {},
   "outputs": [],
   "source": [
    "import numpy as np\n",
    "import csv\n",
    "from matplotlib import pyplot as plt, rc"
   ]
  },
  {
   "cell_type": "code",
   "execution_count": 2,
   "metadata": {},
   "outputs": [],
   "source": [
    "# Read File\n",
    "with open('subjects_data.csv', 'r') as dataset:\n",
    "    data = csv.reader(dataset)\n",
    "    samples = []\n",
    "    for row in data:\n",
    "        samples.append(row)\n",
    "\n",
    "# Get required data\n",
    "Volume = np.asarray(samples[::3])\n",
    "Patient = Volume[1:, -2]\n",
    "name = np.zeros(len(Patient))\n",
    "time = np.zeros(len(Patient))\n",
    "for i in range(len(Patient)):\n",
    "    [dd, n, t] = Patient[i].split(\"_\")\n",
    "    name[i] = int(n)\n",
    "    time[i] = int(t)\n",
    "    \n",
    "CSF_vol = Volume[1:, 1]\n",
    "CSF_vol = np.asarray([float(x) for x in CSF_vol])\n",
    "Gray_matter_vol = Volume[1:, 2]\n",
    "Gray_matter_vol = np.asarray([float(x) for x in Gray_matter_vol])\n",
    "White_matter_vol = Volume[1:, 3]\n",
    "White_matter_vol = np.asarray([float(x) for x in White_matter_vol])\n",
    "Deep_brain_vol = Volume[1:, 4]\n",
    "Deep_brain_vol = np.asarray([float(x) for x in Deep_brain_vol])\n",
    "Brain_stem_vol = Volume[1:, 5]\n",
    "Brain_stem_vol = np.asarray([float(x) for x in Brain_stem_vol])\n",
    "Cerebellum_vol = Volume[1:, 6]\n",
    "Cerebellum_vol = np.asarray([float(x) for x in Cerebellum_vol])"
   ]
  },
  {
   "cell_type": "code",
   "execution_count": 3,
   "metadata": {},
   "outputs": [],
   "source": [
    "# Sort to Matter & Patients & Time\n",
    "indx = np.where(name == 1.)[0]\n",
    "Pt1_time = time[indx]\n",
    "Pt1_gray_matter_vol = Gray_matter_vol[indx]\n",
    "Pt1_white_matter_vol = White_matter_vol[indx]\n",
    "Pt1_deep_brain_vol = Deep_brain_vol[indx]\n",
    "Pt1_brain_stem_vol = Brain_stem_vol[indx]\n",
    "Pt1_cerebellum_vol = Cerebellum_vol[indx]\n",
    "indx = np.argsort(Pt1_time)\n",
    "Pt1_time = Pt1_time[indx]\n",
    "Pt1_gray_matter_vol = Pt1_gray_matter_vol[indx]\n",
    "Pt1_white_matter_vol = Pt1_white_matter_vol[indx]\n",
    "Pt1_deep_brain_vol = Pt1_deep_brain_vol[indx]\n",
    "Pt1_brain_stem_vol = Pt1_brain_stem_vol[indx]\n",
    "Pt1_cerebellum_vol = Pt1_cerebellum_vol[indx]\n",
    "\n",
    "indx = np.where(name == 2.)[0]\n",
    "Pt2_time = time[indx]\n",
    "Pt2_gray_matter_vol = Gray_matter_vol[indx]\n",
    "Pt2_white_matter_vol = White_matter_vol[indx]\n",
    "Pt2_deep_brain_vol = Deep_brain_vol[indx]\n",
    "Pt2_brain_stem_vol = Brain_stem_vol[indx]\n",
    "Pt2_cerebellum_vol = Cerebellum_vol[indx]\n",
    "indx = np.argsort(Pt2_time)\n",
    "Pt2_time = Pt2_time[indx]\n",
    "Pt2_gray_matter_vol = Pt2_gray_matter_vol[indx]\n",
    "Pt2_white_matter_vol = Pt2_white_matter_vol[indx]\n",
    "Pt2_deep_brain_vol = Pt2_deep_brain_vol[indx]\n",
    "Pt2_brain_stem_vol = Pt2_brain_stem_vol[indx]\n",
    "Pt2_cerebellum_vol = Pt2_cerebellum_vol[indx]\n",
    "\n",
    "indx = np.where(name == 3.)[0]\n",
    "Pt3_time = time[indx]\n",
    "Pt3_gray_matter_vol = Gray_matter_vol[indx]\n",
    "Pt3_white_matter_vol = White_matter_vol[indx]\n",
    "Pt3_deep_brain_vol = Deep_brain_vol[indx]\n",
    "Pt3_brain_stem_vol = Brain_stem_vol[indx]\n",
    "Pt3_cerebellum_vol = Cerebellum_vol[indx]\n",
    "indx = np.argsort(Pt3_time)\n",
    "Pt3_time = Pt3_time[indx]\n",
    "Pt3_gray_matter_vol = Pt3_gray_matter_vol[indx]\n",
    "Pt3_white_matter_vol = Pt3_white_matter_vol[indx]\n",
    "Pt3_deep_brain_vol = Pt3_deep_brain_vol[indx]\n",
    "Pt3_brain_stem_vol = Pt3_brain_stem_vol[indx]\n",
    "Pt3_cerebellum_vol = Pt3_cerebellum_vol[indx]"
   ]
  },
  {
   "cell_type": "code",
   "execution_count": 4,
   "metadata": {
    "scrolled": false
   },
   "outputs": [
    {
     "data": {
      "text/plain": [
       "\"\\nplt.figure(figsize=(8,6))\\nplt.plot(Pt1_time, Pt1_white_matter_vol, label='Patient 1')\\nplt.plot(Pt2_time, Pt2_white_matter_vol, label='Patient 2')\\nplt.plot(Pt3_time, Pt3_white_matter_vol, label='Patient 3')\\nplt.xlabel('Test Number')\\nplt.ylabel(r'White Matter Volume [$mm^3$]')\\nplt.legend(loc=4)\\nplt.show()\\n\\nplt.figure(figsize=(8,6))\\nplt.plot(Pt1_time, Pt1_deep_brain_vol, label='Patient 1')\\nplt.plot(Pt2_time, Pt2_deep_brain_vol, label='Patient 2')\\nplt.plot(Pt3_time, Pt3_deep_brain_vol, label='Patient 3')\\nplt.xlabel('Test Number')\\nplt.ylabel(r'Deep Brain Volume [$mm^3$]')\\nplt.legend(loc=4)\\nplt.show()\\n\\nplt.figure(figsize=(8,6))\\nplt.plot(Pt1_time, Pt1_brain_stem_vol, label='Patient 1')\\nplt.plot(Pt2_time, Pt2_brain_stem_vol, label='Patient 2')\\nplt.plot(Pt3_time, Pt3_brain_stem_vol, label='Patient 3')\\nplt.xlabel('Test Number')\\nplt.ylabel(r'Brain Stem Volume [$mm^3$]')\\nplt.legend(loc=4)\\nplt.show()\\n\\nplt.figure(figsize=(8,6))\\nplt.plot(Pt1_time, Pt1_cerebellum_vol, label='Patient 1')\\nplt.plot(Pt2_time, Pt2_cerebellum_vol, label='Patient 2')\\nplt.plot(Pt3_time, Pt3_cerebellum_vol, label='Patient 3')\\nplt.xlabel('Test Number')\\nplt.ylabel(r'Cerebellum Volume [$mm^3$]')\\nplt.legend(loc=4)\\nplt.show()\\n\""
      ]
     },
     "execution_count": 4,
     "metadata": {},
     "output_type": "execute_result"
    },
    {
     "data": {
      "text/plain": [
       "<Figure size 576x432 with 0 Axes>"
      ]
     },
     "metadata": {},
     "output_type": "display_data"
    }
   ],
   "source": [
    "# Plot\n",
    "\n",
    "#font = {'size'   : 15}\n",
    "#matplotlib.rc('font', **font)\n",
    "rc('figure', figsize=(8,6))\n",
    "rc('font', size=18)\n",
    "rc('lines', linewidth=3)\n",
    "rc('axes', linewidth=2)\n",
    "rc('xtick.major', width=2)\n",
    "rc('ytick.major', width=2)\n",
    "\n",
    "\n",
    "plt.figure(figsize=(8,6))\n",
    "plt.plot(Pt1_time, Pt1_gray_matter_vol, label='Patient 1')\n",
    "plt.plot(Pt2_time, Pt2_gray_matter_vol, label='Patient 2')\n",
    "plt.plot(Pt3_time, Pt3_gray_matter_vol, label='Patient 3')\n",
    "plt.xlabel('Test Number')\n",
    "plt.ylabel(r'Gray Matter Volume [$mm^3$]')\n",
    "plt.legend(loc='upper right', bbox_to_anchor=(1, 0.5), prop={'size': 18, 'weight' : 'light'})\n",
    "#plt.show()\n",
    "plt.savefig('Gray_Matter_Volume.png')\n",
    "plt.clf()\n",
    "\n",
    "\"\"\"\n",
    "plt.figure(figsize=(8,6))\n",
    "plt.plot(Pt1_time, Pt1_white_matter_vol, label='Patient 1')\n",
    "plt.plot(Pt2_time, Pt2_white_matter_vol, label='Patient 2')\n",
    "plt.plot(Pt3_time, Pt3_white_matter_vol, label='Patient 3')\n",
    "plt.xlabel('Test Number')\n",
    "plt.ylabel(r'White Matter Volume [$mm^3$]')\n",
    "plt.legend(loc=4)\n",
    "plt.show()\n",
    "\n",
    "plt.figure(figsize=(8,6))\n",
    "plt.plot(Pt1_time, Pt1_deep_brain_vol, label='Patient 1')\n",
    "plt.plot(Pt2_time, Pt2_deep_brain_vol, label='Patient 2')\n",
    "plt.plot(Pt3_time, Pt3_deep_brain_vol, label='Patient 3')\n",
    "plt.xlabel('Test Number')\n",
    "plt.ylabel(r'Deep Brain Volume [$mm^3$]')\n",
    "plt.legend(loc=4)\n",
    "plt.show()\n",
    "\n",
    "plt.figure(figsize=(8,6))\n",
    "plt.plot(Pt1_time, Pt1_brain_stem_vol, label='Patient 1')\n",
    "plt.plot(Pt2_time, Pt2_brain_stem_vol, label='Patient 2')\n",
    "plt.plot(Pt3_time, Pt3_brain_stem_vol, label='Patient 3')\n",
    "plt.xlabel('Test Number')\n",
    "plt.ylabel(r'Brain Stem Volume [$mm^3$]')\n",
    "plt.legend(loc=4)\n",
    "plt.show()\n",
    "\n",
    "plt.figure(figsize=(8,6))\n",
    "plt.plot(Pt1_time, Pt1_cerebellum_vol, label='Patient 1')\n",
    "plt.plot(Pt2_time, Pt2_cerebellum_vol, label='Patient 2')\n",
    "plt.plot(Pt3_time, Pt3_cerebellum_vol, label='Patient 3')\n",
    "plt.xlabel('Test Number')\n",
    "plt.ylabel(r'Cerebellum Volume [$mm^3$]')\n",
    "plt.legend(loc=4)\n",
    "plt.show()\n",
    "\"\"\""
   ]
  },
  {
   "cell_type": "markdown",
   "metadata": {},
   "source": [
    "## Reproducability"
   ]
  },
  {
   "cell_type": "code",
   "execution_count": 5,
   "metadata": {},
   "outputs": [
    {
     "name": "stdout",
     "output_type": "stream",
     "text": [
      "Gray Matter [1.203608250279745, 1.0004226749633898, 0.8306905466332346] 1.0115738239587897\n",
      "White Matter [1.0947768082687062, 0.875722589974454, 0.9219001097157384] 0.9641331693196328\n",
      "Deep Brain [2.2432145301225983, 1.4238260975817791, 1.4205074378104792] 1.695849355171619\n",
      "Brain Stem [2.298680926814631, 1.2901614742940806, 1.734736997269009] 1.7745264661259068\n",
      "Cerebellum [0.7063218406036471, 0.8374166970460591, 0.7755093218808535] 0.77308261984352\n"
     ]
    }
   ],
   "source": [
    "def reproducability_coeff(data):\n",
    "    sigma = np.std(data)\n",
    "    mu = np.mean(data)\n",
    "    cov = sigma/mu*100\n",
    "    return cov  #[%] coefficient of variation\n",
    "\n",
    "COV_gray_matter = [reproducability_coeff(Pt1_gray_matter_vol),\n",
    "                   reproducability_coeff(Pt2_gray_matter_vol),\n",
    "                   reproducability_coeff(Pt3_gray_matter_vol)]\n",
    "COV_white_matter = [reproducability_coeff(Pt1_white_matter_vol),\n",
    "                   reproducability_coeff(Pt2_white_matter_vol),\n",
    "                   reproducability_coeff(Pt3_white_matter_vol)]\n",
    "COV_deep_brain = [reproducability_coeff(Pt1_deep_brain_vol),\n",
    "                   reproducability_coeff(Pt2_deep_brain_vol),\n",
    "                   reproducability_coeff(Pt3_deep_brain_vol)]\n",
    "COV_brain_stem = [reproducability_coeff(Pt1_brain_stem_vol),\n",
    "                   reproducability_coeff(Pt2_brain_stem_vol),\n",
    "                   reproducability_coeff(Pt3_brain_stem_vol)]\n",
    "COV_cerebellum = [reproducability_coeff(Pt1_cerebellum_vol),\n",
    "                   reproducability_coeff(Pt2_cerebellum_vol),\n",
    "                   reproducability_coeff(Pt3_cerebellum_vol)]\n",
    "print('Gray Matter', COV_gray_matter, np.mean(COV_gray_matter))\n",
    "print('White Matter', COV_white_matter, np.mean(COV_white_matter))\n",
    "print('Deep Brain', COV_deep_brain, np.mean(COV_deep_brain))\n",
    "print('Brain Stem', COV_brain_stem, np.mean(COV_brain_stem))\n",
    "print('Cerebellum', COV_cerebellum, np.mean(COV_cerebellum))"
   ]
  },
  {
   "cell_type": "code",
   "execution_count": null,
   "metadata": {
    "collapsed": true
   },
   "outputs": [],
   "source": []
  }
 ],
 "metadata": {
  "kernelspec": {
   "display_name": "Python 3",
   "language": "python",
   "name": "python3"
  },
  "language_info": {
   "codemirror_mode": {
    "name": "ipython",
    "version": 3
   },
   "file_extension": ".py",
   "mimetype": "text/x-python",
   "name": "python",
   "nbconvert_exporter": "python",
   "pygments_lexer": "ipython3",
   "version": "3.6.5"
  }
 },
 "nbformat": 4,
 "nbformat_minor": 2
}
