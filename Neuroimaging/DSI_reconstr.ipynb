{
 "cells": [
  {
   "cell_type": "markdown",
   "metadata": {},
   "source": [
    "# DSI reconstruction pipeline\n",
    "\n",
    "Diffusion spectrum magnetic resonance imaging (DSI)"
   ]
  },
  {
   "cell_type": "code",
   "execution_count": 1,
   "metadata": {},
   "outputs": [],
   "source": [
    "from os.path import expanduser, join\n",
    "import numpy as np\n",
    "import nibabel as nib\n",
    "from scipy import ndimage as ndi\n",
    "from dipy.io import read_bvals_bvecs\n",
    "from dipy.sims.voxel import multi_tensor, multi_tensor_odf\n",
    "from dipy.data import get_sphere\n",
    "from dipy.core.gradients import gradient_table\n",
    "from dipy.reconst.dsi import (DiffusionSpectrumDeconvModel,\n",
    "                              DiffusionSpectrumModel)\n",
    "from dipy.viz import window, actor\n",
    "import matplotlib.pyplot as plt"
   ]
  },
  {
   "cell_type": "code",
   "execution_count": 2,
   "metadata": {
    "scrolled": true
   },
   "outputs": [
    {
     "name": "stdout",
     "output_type": "stream",
     "text": [
      "xyzt units: ('mm', 'sec')\n",
      "Pixel value range: 0, 4095\n",
      "data.shape x, y, z, t: (96, 96, 40, 515)\n",
      "B-values shape (515,)\n",
      "         min 0.000000 \n",
      "         max 8005.000000 \n",
      "B-vectors shape (515, 3)\n",
      "         min -0.998984 \n",
      "         max 0.997817 \n",
      "None\n"
     ]
    }
   ],
   "source": [
    "dname = './dsi/'\n",
    "fdwi = join(dname, '20131019_084416s037a001.nii.gz')\n",
    "fbval = join(dname, '20131019_084416s037a001.bval')\n",
    "fbvec = join(dname, '20131019_084416s037a001.bvec')\n",
    "\n",
    "# Load dMRI datasets\n",
    "img = nib.load(fdwi)\n",
    "data = img.get_data()  #img.get_fdata()\n",
    "print('xyzt units:', img.header.get_xyzt_units())\n",
    "print('Pixel value range: %d, %d' %\n",
    "      (np.min(data), np.max(data)))\n",
    "print('data.shape x, y, z, t: (%d, %d, %d, %d)' % data.shape)\n",
    "\n",
    "# Load b-values and b-vectors\n",
    "bvals, bvecs = read_bvals_bvecs(fbval, fbvec)\n",
    "gtab = gradient_table(bvals, bvecs)\n",
    "print(gtab.info)"
   ]
  },
  {
   "cell_type": "markdown",
   "metadata": {},
   "source": [
    "Visualize data set"
   ]
  },
  {
   "cell_type": "code",
   "execution_count": 3,
   "metadata": {},
   "outputs": [
    {
     "data": {
      "image/png": "[encoded data removed]",
      "text/plain": [
       "<Figure size 432x288 with 2 Axes>"
      ]
     },
     "metadata": {},
     "output_type": "display_data"
    },
    {
     "data": {
      "text/plain": [
       "<Figure size 432x288 with 0 Axes>"
      ]
     },
     "metadata": {},
     "output_type": "display_data"
    }
   ],
   "source": [
    "axial_middle = data.shape[2] // 2\n",
    "plt.figure('Showing the datasets')\n",
    "plt.subplot(1, 2, 1).set_axis_off()\n",
    "plt.imshow(data[:, :, axial_middle, 0].T, cmap='gray', origin='lower')\n",
    "plt.subplot(1, 2, 2).set_axis_off()\n",
    "plt.imshow(data[:, :, axial_middle, 10].T, cmap='gray', origin='lower')\n",
    "plt.show()\n",
    "plt.savefig('data.png', bbox_inches='tight')"
   ]
  },
  {
   "cell_type": "markdown",
   "metadata": {},
   "source": [
    "Create a multi tensor with 2 fiber directions"
   ]
  },
  {
   "cell_type": "code",
   "execution_count": 4,
   "metadata": {},
   "outputs": [],
   "source": [
    "evals = np.array([[0.0015, 0.0003, 0.0003],\n",
    "                  [0.0015, 0.0003, 0.0003]])\n",
    "directions = [(-30, 0), (30, 0)]\n",
    "fractions = [50, 50]\n",
    "signal, _ = multi_tensor(gtab, evals, 100, angles=directions,\n",
    "                         fractions=fractions, snr=None)\n",
    "sphere = get_sphere('symmetric724').subdivide(1)\n",
    "odf_gt = multi_tensor_odf(sphere.vertices, evals, angles=directions,\n",
    "                          fractions=fractions)"
   ]
  },
  {
   "cell_type": "markdown",
   "metadata": {},
   "source": [
    "Perform the reconstructions with standard DSI and DSI with deconvolution"
   ]
  },
  {
   "cell_type": "code",
   "execution_count": 5,
   "metadata": {},
   "outputs": [],
   "source": [
    "dsi_model = DiffusionSpectrumModel(gtab)\n",
    "dsi_odf = dsi_model.fit(signal).odf(sphere)\n",
    "dsid_model = DiffusionSpectrumDeconvModel(gtab)\n",
    "dsid_odf = dsid_model.fit(signal).odf(sphere)"
   ]
  },
  {
   "cell_type": "code",
   "execution_count": 6,
   "metadata": {},
   "outputs": [
    {
     "name": "stderr",
     "output_type": "stream",
     "text": [
      "/home/chrbecker/anaconda3/lib/python3.6/site-packages/vtk/util/numpy_support.py:137: FutureWarning: Conversion of the second argument of issubdtype from `complex` to `np.complexfloating` is deprecated. In future, it will be treated as `np.complex128 == np.dtype(complex).type`.\n",
      "  assert not numpy.issubdtype(z.dtype, complex), \\\n"
     ]
    }
   ],
   "source": [
    "from dipy.viz import window, actor\n",
    "\n",
    "# Enables/disables interactive visualization\n",
    "interactive = True\n",
    "\n",
    "\n",
    "ren = window.Renderer()\n",
    "\n",
    "# concatenate data as 4D array\n",
    "odfs = np.vstack((odf_gt, dsi_odf, dsid_odf))[:, None, None]\n",
    "odf_actor = actor.odf_slicer(odfs, sphere=sphere,\n",
    "                             scale=0.5, colormap='plasma')\n",
    "\n",
    "odf_actor.display(y=0)\n",
    "odf_actor.RotateX(90)\n",
    "ren.add(odf_actor)\n",
    "window.record(ren, out_path='dsid.png', size=(300, 300))\n",
    "if interactive:\n",
    "    window.show(ren)"
   ]
  },
  {
   "cell_type": "code",
   "execution_count": null,
   "metadata": {
    "collapsed": true
   },
   "outputs": [],
   "source": []
  }
 ],
 "metadata": {
  "kernelspec": {
   "display_name": "Python 3",
   "language": "python",
   "name": "python3"
  },
  "language_info": {
   "codemirror_mode": {
    "name": "ipython",
    "version": 3
   },
   "file_extension": ".py",
   "mimetype": "text/x-python",
   "name": "python",
   "nbconvert_exporter": "python",
   "pygments_lexer": "ipython3",
   "version": "3.6.5"
  }
 },
 "nbformat": 4,
 "nbformat_minor": 2
}
